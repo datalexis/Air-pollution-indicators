{
 "cells": [
  {
   "cell_type": "code",
   "execution_count": 2,
   "metadata": {},
   "outputs": [],
   "source": [
    "import os\n",
    "import csv\n",
    "import pandas as pd\n",
    "import numpy as np\n",
    "\n",
    "os.chdir('../2. Prepared Data')\n",
    "\n",
    "# Objet du script : Récupération du fichier radon et création d'une colonne \"Année\"\n",
    "# Cette \"astuce\" sert à pallier certaines limites de Tableau car notre vue finale utilise un filtre sur l'année (utilisé pour suivre l'AQI index) et il était impossible de visualiser le radon sans lui ajouter un attribut année \n",
    "# Pour ne pas alourdir trop nos données, nous ne gardons que les communes avec un potentiel radon > 1\n",
    "# Le fichier radon ne contenant que les codes insee et non les codes postaux, on couple avec la base officielle des communes fr pour optimiser la cartographie sur Tableau\n",
    "\n",
    "# Adresse web des fichiers source\n",
    "url_radon = 'https://www.data.gouv.fr/fr/datasets/r/817114f8-9b61-48fa-b7a4-0e3c1331a44c' #potentiel radon\n",
    "url_hexasmal = 'https://datanova.laposte.fr/explore/dataset/laposte_hexasmal' #codes postaux\n",
    "\n",
    "# Préparation du fichier radon\n",
    "radon_df = pd.read_csv('FR_radon.csv', sep = ';') #df potentiel radon\n",
    "hexasmal_df = pd.read_csv('FR_laposte_hexasmal.csv', sep = ';') #df codes postaux\n",
    "\n",
    "# Fusion du df radon avec le df codes postaux\n",
    "radon_df = pd.merge(radon_df, hexasmal_df, how='inner', left_on = ['insee_com'], right_on = ['Code_commune_INSEE'])\n",
    "\n",
    "# Nettoyage du df radon\n",
    "radon_df = radon_df.filter(items=['Nom_commune', 'Code_postal', 'classe_potentiel', 'reg']) #filtre des colonnes inutiles\n",
    "radon_df = radon_df.loc[radon_df.reg == 'FR'] #filtre sur la france métropolitaine\n",
    "#radon_df = radon_df.loc[radon_df.classe_potentiel > 1] #filtre sur communes avec potentiel radon > 1 \n",
    "\n",
    "## création d'un dataframe listant les années 1980 à 2012 (suspendu a priori)\n",
    "#year_lst = list(np.arange(1980,2013))\n",
    "#year_df = pd.DataFrame({'Year' : year_lst})\n",
    "\n",
    "# création d'une clé commune pour fusionner les dataframes\n",
    "#radon_df['key'] = 1\n",
    "#year_df['key'] = 1\n",
    "\n",
    "#fusion des dataframes pour obtenir le potentiel radon pour chaque année (toujours le même)\n",
    "#radon_df = pd.merge(radon_df, year_df, on ='key').drop(\"key\", 1)\n",
    "\n",
    "radon_df.to_csv(\"FR_radon_by_year.csv\")"
   ]
  },
  {
   "cell_type": "code",
   "execution_count": null,
   "metadata": {},
   "outputs": [],
   "source": []
  }
 ],
 "metadata": {
  "kernelspec": {
   "display_name": "Python 3 (ipykernel)",
   "language": "python",
   "name": "python3"
  },
  "language_info": {
   "codemirror_mode": {
    "name": "ipython",
    "version": 3
   },
   "file_extension": ".py",
   "mimetype": "text/x-python",
   "name": "python",
   "nbconvert_exporter": "python",
   "pygments_lexer": "ipython3",
   "version": "3.8.12"
  }
 },
 "nbformat": 4,
 "nbformat_minor": 4
}
