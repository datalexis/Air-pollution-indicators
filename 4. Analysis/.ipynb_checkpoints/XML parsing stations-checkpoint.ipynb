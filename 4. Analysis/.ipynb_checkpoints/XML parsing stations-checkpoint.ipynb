{
 "cells": [
  {
   "cell_type": "code",
   "execution_count": 1,
   "metadata": {},
   "outputs": [],
   "source": [
    "import os\n",
    "import csv\n",
    "import pandas as pd\n",
    "import numpy as np\n",
    "import xml.etree.ElementTree as et \n",
    "from bs4 import BeautifulSoup\n",
    "\n",
    "os.chdir('../2. Prepared Data')\n",
    "\n",
    "#Fonction pour extraire les données utiles des stations depuis leur fichier xml vers csv\n",
    "\n",
    "def parseXML(xmlfile):\n",
    "    \n",
    "    tree = et.parse(xmlfile)\n",
    "    root = tree.getroot()\n",
    "\n",
    "    pack_stations = []\n",
    "\n",
    "    for station in root.findall('./country/station'):\n",
    "        station_df = {}\n",
    "\n",
    "        for substation in station:\n",
    "            try:\n",
    "                station_df['Station_ID'] = station.find(\"station_european_code\").text\n",
    "                station_df['Station_name'] = station.find(\".//station_info/station_name\").text\n",
    "                station_df['Latitude'] = station.find(\".//station_info/station_latitude_decimal_degrees\").text\n",
    "                station_df['Longitude'] = station.find(\".//station_info/station_longitude_decimal_degrees\").text\n",
    "                station_df['Ville'] = station.find(\".//station_info/station_city\").text\n",
    "            except AttributeError: None\n",
    "\n",
    "        pack_stations.append(station_df)\n",
    "        \n",
    "    stations_df = pd.DataFrame(pack_stations)\n",
    "    \n",
    "    return stations_df"
   ]
  },
  {
   "cell_type": "code",
   "execution_count": 2,
   "metadata": {},
   "outputs": [],
   "source": [
    "#récupération des df à partir des xml de chaque pays et fusion en un seul fichier csv\n",
    "\n",
    "#sources : https://www.eea.europa.eu/data-and-maps/data/airbase-the-european-air-quality-database-8\n",
    "fr_stations = parseXML('FR_meta.xml') #http://cmshare.eea.europa.eu/s/dP6dEgjDqyykMJZ/download\n",
    "es_stations = parseXML('ES_meta.xml') #http://cmshare.eea.europa.eu/s/KGbkWJetsTGzsQk/download\n",
    "pt_stations = parseXML('PT_meta.xml') #http://cmshare.eea.europa.eu/s/8aJMmQX2faBGd2o/download\n",
    "\n",
    "stations = pd.concat([fr_stations, es_stations, pt_stations])\n",
    "\n",
    "stations['Pays'] = stations['Station_ID'].str[0:2]\n",
    "\n",
    "stations.to_csv('stationsdf.csv')"
   ]
  },
  {
   "cell_type": "code",
   "execution_count": null,
   "metadata": {},
   "outputs": [],
   "source": []
  }
 ],
 "metadata": {
  "kernelspec": {
   "display_name": "Python 3 (ipykernel)",
   "language": "python",
   "name": "python3"
  },
  "language_info": {
   "codemirror_mode": {
    "name": "ipython",
    "version": 3
   },
   "file_extension": ".py",
   "mimetype": "text/x-python",
   "name": "python",
   "nbconvert_exporter": "python",
   "pygments_lexer": "ipython3",
   "version": "3.8.12"
  }
 },
 "nbformat": 4,
 "nbformat_minor": 4
}
